{
  "nbformat": 4,
  "nbformat_minor": 0,
  "metadata": {
    "colab": {
      "name": "lagrange_multiplier.ipynb",
      "version": "0.3.2",
      "provenance": [],
      "collapsed_sections": []
    },
    "kernelspec": {
      "name": "python3",
      "display_name": "Python 3"
    }
  },
  "cells": [
    {
      "metadata": {
        "id": "GQvH6FASxakn",
        "colab_type": "text"
      },
      "cell_type": "markdown",
      "source": [
        "  [Optimization problem](https://en.wikipedia.org/wiki/Optimization_problem)\n",
        "\n",
        "The standard form of a continuous optimization problem is[1]\n",
        "\n",
        "$$ \\begin{aligned}&{\\underset {x}{\\operatorname {minimize} }}&&f(x,y)\\\\&\\operatorname {subject\\;to} &&g_{i}(x)\\leq 0,\\quad i=1,\\dots ,m\\\\&&&h_{j}(x)=0,\\quad j=1,\\dots ,p\\end{aligned}\n",
        "$$\n",
        "\n",
        "\n",
        "where\n",
        "$ f:\\mathbb {R} ^{n}\\to \\mathbb {R} $ is the objective function to be minimized over the n-variable vector  x,\n",
        " \n",
        "$g_{i}(x)\\leq 0$ are called inequality constraints\n",
        "\n",
        "$ h_{j}(x)=0$  are called equality constraints, and\n",
        "\n",
        "\n",
        "$m\\geq 0\\ and \\ p\\geq 0$."
      ]
    },
    {
      "metadata": {
        "id": "AfrwdA5rysnt",
        "colab_type": "text"
      },
      "cell_type": "markdown",
      "source": [
        "[Lagrange multiplier](https://en.wikipedia.org/wiki/Lagrange_multiplier)\n",
        "For the case of only one constraint and only two choice variables (as exemplified in Figure 1), consider the optimization problem\n",
        "\n",
        "maximize $$ f(x, y) $$\n",
        "subject to $$g(x, y) = 0.$$\n",
        "\n",
        "(Sometimes an additive constant is shown separately rather than being included in g, in which case the constraint is written g(x, y) = c, as in Figure 1.) We assume that both f and g have continuous first partial derivatives. We introduce a new variable (λ) called a Lagrange multiplier and study the Lagrange function (or Lagrangian or Lagrangian expression) defined by\n",
        "\n",
        "$ {\\mathcal {L}}(x,y,\\lambda )=f(x,y)-\\lambda \\cdot g(x,y),$\n",
        "\n",
        "where the λ term may be either added or subtracted. "
      ]
    },
    {
      "metadata": {
        "id": "p0l3AZTW586V",
        "colab_type": "text"
      },
      "cell_type": "markdown",
      "source": [
        "[Calculus I - Optimization - Pauls Online Math Notes](http://tutorial.math.lamar.edu/Classes/CalcI/Optimization.aspx)\n",
        "\n",
        "Example 6 A printer need to make a poster that will have a total area of 200 in2 and will have 1 inch margins on the sides, a 2 inch margin on the top and a 1.5 inch margin on the bottom as shown below. What dimensions will give the largest printed area?\n",
        "\n",
        "maximize $$ f(x, y) $$\n",
        "subject to $$g(x, y) = 0.$$\n"
      ]
    }
  ]
}
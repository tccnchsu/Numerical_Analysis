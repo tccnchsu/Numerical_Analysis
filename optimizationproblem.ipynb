{
  "nbformat": 4,
  "nbformat_minor": 0,
  "metadata": {
    "colab": {
      "name": "optimizationproblem.ipynb",
      "version": "0.3.2",
      "provenance": []
    },
    "kernelspec": {
      "display_name": "Python 2",
      "language": "python",
      "name": "python2"
    }
  },
  "cells": [
    {
      "metadata": {
        "id": "HpQMtqfzwPIR",
        "colab_type": "text"
      },
      "cell_type": "markdown",
      "source": [
        "Use shift-enter to execute a code block and move to the next one."
      ]
    },
    {
      "metadata": {
        "id": "X5eH4-zb7bbW",
        "colab_type": "text"
      },
      "cell_type": "markdown",
      "source": [
        "# Implement Gradient Descent in Python"
      ]
    },
    {
      "metadata": {
        "id": "p4kj1W1w7fLf",
        "colab_type": "text"
      },
      "cell_type": "markdown",
      "source": [
        "https://towardsdatascience.com/implement-gradient-descent-in-python-9b93ed7108d1"
      ]
    },
    {
      "metadata": {
        "id": "DLyFDjRLwPIS",
        "colab_type": "code",
        "colab": {}
      },
      "cell_type": "code",
      "source": [
        "# 1.1 Import tensorflow and other libraries.\n",
        "import tensorflow as tf\n",
        "import numpy as np\n",
        "\n",
        "%matplotlib inline\n",
        "import pylab"
      ],
      "execution_count": 0,
      "outputs": []
    },
    {
      "metadata": {
        "id": "dg5nSdNz7iEO",
        "colab_type": "text"
      },
      "cell_type": "markdown",
      "source": [
        ""
      ]
    },
    {
      "metadata": {
        "id": "zaqyTkGJ17Ts",
        "colab_type": "code",
        "colab": {
          "base_uri": "https://localhost:8080/",
          "height": 265
        },
        "outputId": "8eb904bb-4716-405e-9e86-1c472550927c"
      },
      "cell_type": "code",
      "source": [
        "import matplotlib.pyplot as plt\n",
        "import matplotlib.mlab as mlab\n",
        "import math\n",
        "x=np.linspace(-20.0, 10.0, num=100)\n",
        "y=(x+5)**2\n",
        "\n",
        "plt.plot(x,y)\n",
        "plt.show()"
      ],
      "execution_count": 95,
      "outputs": [
        {
          "output_type": "display_data",
          "data": {
            "image/png": "[encoded data removed]",
            "text/plain": [
              "<matplotlib.figure.Figure at 0x7f7829264410>"
            ]
          },
          "metadata": {
            "tags": []
          }
        }
      ]
    },
    {
      "metadata": {
        "id": "hs-GpJ1VwPIc",
        "colab_type": "code",
        "colab": {
          "base_uri": "https://localhost:8080/",
          "height": 34
        },
        "outputId": "28ae309c-5464-45f5-8da5-05a1aaef9e19"
      },
      "cell_type": "code",
      "source": [
        "x = tf.Variable(tf.random_uniform([1], -10, 0.0))\n",
        "\n",
        "# Uncomment the parmeter x\n",
        "print(x)\n"
      ],
      "execution_count": 96,
      "outputs": [
        {
          "output_type": "stream",
          "text": [
            "<tf.Variable 'Variable_21:0' shape=(1,) dtype=float32_ref>\n"
          ],
          "name": "stdout"
        }
      ]
    },
    {
      "metadata": {
        "scrolled": true,
        "id": "ae5z7umMwPIg",
        "colab_type": "code",
        "colab": {
          "base_uri": "https://localhost:8080/",
          "height": 493
        },
        "outputId": "8d744bd2-5ef7-4ead-bfb9-ee524ec1ff7b"
      },
      "cell_type": "code",
      "source": [
        "# 1.4 Build training graph.\n",
        "loss = tf.reduce_mean(tf.square(5.0+ x))  # Create an operation that calculates loss.\n",
        "optimizer = tf.train.GradientDescentOptimizer(0.5)  # Create an optimizer.\n",
        "train = optimizer.minimize(loss)  # Create an operation that minimizes loss.\n",
        "init = tf.initialize_all_variables()  # Create an operation initializes all the variables.\n",
        "\n",
        "# Uncomment the following 3 lines to see what 'loss', 'optimizer' and 'train' are.\n",
        "print(\"loss:\", loss)\n",
        "print(\"optimizer:\", optimizer)\n",
        "print(\"train:\", train)\n",
        "print(init)"
      ],
      "execution_count": 97,
      "outputs": [
        {
          "output_type": "stream",
          "text": [
            "('loss:', <tf.Tensor 'Mean_17:0' shape=() dtype=float32>)\n",
            "('optimizer:', <tensorflow.python.training.gradient_descent.GradientDescentOptimizer object at 0x7f7829bc6190>)\n",
            "('train:', <tf.Operation 'GradientDescent_11' type=NoOp>)\n",
            "name: \"init_11\"\n",
            "op: \"NoOp\"\n",
            "input: \"^Variable/Assign\"\n",
            "input: \"^Variable_1/Assign\"\n",
            "input: \"^Variable_2/Assign\"\n",
            "input: \"^Variable_3/Assign\"\n",
            "input: \"^Variable_4/Assign\"\n",
            "input: \"^Variable_5/Assign\"\n",
            "input: \"^Variable_6/Assign\"\n",
            "input: \"^Variable_7/Assign\"\n",
            "input: \"^Variable_8/Assign\"\n",
            "input: \"^Variable_9/Assign\"\n",
            "input: \"^Variable_10/Assign\"\n",
            "input: \"^Variable_11/Assign\"\n",
            "input: \"^Variable_12/Assign\"\n",
            "input: \"^Variable_13/Assign\"\n",
            "input: \"^Variable_14/Assign\"\n",
            "input: \"^Variable_15/Assign\"\n",
            "input: \"^Variable_16/Assign\"\n",
            "input: \"^Variable_17/Assign\"\n",
            "input: \"^Variable_18/Assign\"\n",
            "input: \"^Variable_19/Assign\"\n",
            "input: \"^Variable_20/Assign\"\n",
            "input: \"^Variable_21/Assign\"\n",
            "\n"
          ],
          "name": "stdout"
        }
      ]
    },
    {
      "metadata": {
        "id": "IcT_yoQowPIk",
        "colab_type": "code",
        "colab": {}
      },
      "cell_type": "code",
      "source": [
        "# 1.5 Uncomment the following line to see what we have built.\n",
        "#print(tf.get_default_graph().as_graph_def())"
      ],
      "execution_count": 0,
      "outputs": []
    },
    {
      "metadata": {
        "id": "avnU1bRiwPIn",
        "colab_type": "code",
        "colab": {
          "base_uri": "https://localhost:8080/",
          "height": 34
        },
        "outputId": "92c5fafc-bc14-46fe-db49-04792be744fc"
      },
      "cell_type": "code",
      "source": [
        "# 1.6 Create a session and launch the graph.\n",
        "sess = tf.Session()\n",
        "sess.run(init)\n",
        "#y_initial_values = sess.run(y)  # Save initial values for plotting later.\n",
        "\n",
        "# Uncomment the following line to see the initial W and b values.\n",
        "print(sess.run([x]))"
      ],
      "execution_count": 99,
      "outputs": [
        {
          "output_type": "stream",
          "text": [
            "[array([-4.051365], dtype=float32)]\n"
          ],
          "name": "stdout"
        }
      ]
    },
    {
      "metadata": {
        "id": "ICjGanTfwPIr",
        "colab_type": "code",
        "colab": {
          "base_uri": "https://localhost:8080/",
          "height": 34
        },
        "outputId": "3fb93f12-eeaa-4899-feb1-2ae4e0086cc2"
      },
      "cell_type": "code",
      "source": [
        "# 1.7 Perform training.\n",
        "for step in range(201):\n",
        "    sess.run(train)\n",
        "    # Uncomment the following two lines to watch training happen real time.\n",
        "    # if step % 20 == 0:\n",
        "    #    print(step, sess.run([W, b]))\n",
        "\n",
        "print(sess.run([x]))"
      ],
      "execution_count": 100,
      "outputs": [
        {
          "output_type": "stream",
          "text": [
            "[array([-5.], dtype=float32)]\n"
          ],
          "name": "stdout"
        }
      ]
    },
    {
      "metadata": {
        "id": "AneJowD67Z93",
        "colab_type": "text"
      },
      "cell_type": "markdown",
      "source": [
        ""
      ]
    },
    {
      "metadata": {
        "id": "3CTeXj2GwPI0",
        "colab_type": "text"
      },
      "cell_type": "markdown",
      "source": [
        "<p>Back to [0_tf_hello_world.ipynb](0_tf_hello_world.ipynb).</p>\n",
        "<p>Next to [2_mnist.ipynb](2_mnist.ipynb).</p>"
      ]
    }
  ]
}
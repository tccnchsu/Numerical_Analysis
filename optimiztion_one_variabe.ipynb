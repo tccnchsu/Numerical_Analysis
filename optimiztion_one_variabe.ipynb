{
  "nbformat": 4,
  "nbformat_minor": 0,
  "metadata": {
    "colab": {
      "name": "optimiztion_one_variabe.ipynb",
      "version": "0.3.2",
      "provenance": [],
      "collapsed_sections": []
    },
    "kernelspec": {
      "display_name": "Python 2",
      "language": "python",
      "name": "python2"
    }
  },
  "cells": [
    {
      "metadata": {
        "id": "P4wvkaLH5BEV",
        "colab_type": "text"
      },
      "cell_type": "markdown",
      "source": [
        "Use shift-enter to execute a code block and move to the next one."
      ]
    },
    {
      "metadata": {
        "id": "E2Rw6iBI53ez",
        "colab_type": "text"
      },
      "cell_type": "markdown",
      "source": [
        "Example 6 A printer need to make a poster that will have a total area of 200 in2 and will have 1 inch margins on the sides, a 2 inch margin on the top and a 1.5 inch margin on the bottom as shown below. What dimensions will give the largest printed area?"
      ]
    },
    {
      "metadata": {
        "id": "_vn5jlXC6LQa",
        "colab_type": "text"
      },
      "cell_type": "markdown",
      "source": [
        "Assume \n",
        "the height of printed area y\n",
        "the width of printed area x\n",
        "(x+1+1)(y+2+1.5)=200\n",
        "Max F(x,y)\n",
        "g(x,y)=x*y\n",
        "1.\tOne dimensional derivative\n",
        "(x+2)(y+3.5)=200\n",
        "x+2=200/(y+3.5)\n",
        "x=200/(y+3.5)-2\n",
        "f(x,y)=x*y\n",
        "f(y)=[200/(y+3.5)-2]*y\n"
      ]
    },
    {
      "metadata": {
        "id": "odLRL_nw5BEX",
        "colab_type": "code",
        "colab": {}
      },
      "cell_type": "code",
      "source": [
        "# 1.1 Import tensorflow and other libraries.\n",
        "import tensorflow as tf\n",
        "import numpy as np\n",
        "\n",
        "%matplotlib inline\n",
        "import pylab"
      ],
      "execution_count": 0,
      "outputs": []
    },
    {
      "metadata": {
        "id": "LVopNsmU5BEg",
        "colab_type": "code",
        "colab": {}
      },
      "cell_type": "code",
      "source": [
        "# 1.3 Buld inference graph.\n",
        "# Create Variables x that compute \n",
        "y = tf.Variable(tf.random_uniform([1], 0.0, 30.0))\n",
        "\n",
        "# print(y)"
      ],
      "execution_count": 0,
      "outputs": []
    },
    {
      "metadata": {
        "id": "RiXmUa-H9EGo",
        "colab_type": "code",
        "colab": {}
      },
      "cell_type": "code",
      "source": [
        "def my_function(y):\n",
        "  return 10000000000.0-((200.0/(y+3.5)-2.0)*y)\n"
      ],
      "execution_count": 0,
      "outputs": []
    },
    {
      "metadata": {
        "id": "bYQPtzOo_yUn",
        "colab_type": "code",
        "colab": {
          "base_uri": "https://localhost:8080/",
          "height": 293
        },
        "outputId": "bc00cec6-3009-4aaf-d953-3ef4eabfc71b"
      },
      "cell_type": "code",
      "source": [
        "x=np.linspace(0.0, 30.0, num=10000)\n",
        "pylab.plot(x, my_function(x), '.')"
      ],
      "execution_count": 241,
      "outputs": [
        {
          "output_type": "execute_result",
          "data": {
            "text/plain": [
              "[<matplotlib.lines.Line2D at 0x7fd0ec8a59d0>]"
            ]
          },
          "metadata": {
            "tags": []
          },
          "execution_count": 241
        },
        {
          "output_type": "display_data",
          "data": {
            "image/png": "[encoded data removed]",
            "text/plain": [
              "<matplotlib.figure.Figure at 0x7fd0ec95a790>"
            ]
          },
          "metadata": {
            "tags": []
          }
        }
      ]
    },
    {
      "metadata": {
        "scrolled": true,
        "id": "YleiVdXZ5BEk",
        "colab_type": "code",
        "colab": {}
      },
      "cell_type": "code",
      "source": [
        "# 1.4 Build training graph.\n",
        "loss = my_function(y)  # Create an operation that calculates loss.\n",
        "optimizer = tf.train.GradientDescentOptimizer(0.0001)  # Create an optimizer.\n",
        "train = optimizer.minimize(loss)  # Create an operation that minimizes loss.\n",
        "init = tf.initialize_all_variables()  # Create an operation initializes all the variables.\n",
        "\n",
        "# Uncomment the following 3 lines to see what 'loss', 'optimizer' and 'train' are.\n",
        "# print(\"loss:\", loss)\n",
        "# print(\"optimizer:\", optimizer)\n",
        "# print(\"train:\", train)\n",
        "# print(init)"
      ],
      "execution_count": 0,
      "outputs": []
    },
    {
      "metadata": {
        "id": "YwMfW-SR5BEn",
        "colab_type": "code",
        "colab": {}
      },
      "cell_type": "code",
      "source": [
        "# 1.5 Uncomment the following line to see what we have built.\n",
        "# print(tf.get_default_graph().as_graph_def())"
      ],
      "execution_count": 0,
      "outputs": []
    },
    {
      "metadata": {
        "id": "B7Gl15Mi5BEr",
        "colab_type": "code",
        "colab": {}
      },
      "cell_type": "code",
      "source": [
        "# 1.6 Create a session and launch the graph.\n",
        "sess = tf.Session()\n",
        "sess.run(init)\n",
        "#y_initial_values = sess.run(y)  # Save initial values for plotting later.\n",
        "\n",
        "# Uncomment the following line to see the initial W and b values.\n",
        "# print(sess.run([W, b]))"
      ],
      "execution_count": 0,
      "outputs": []
    },
    {
      "metadata": {
        "id": "2QgRtEtf5BEt",
        "colab_type": "code",
        "outputId": "486a9cf3-0978-41e1-e4c0-6df013f7ab77",
        "colab": {
          "base_uri": "https://localhost:8080/",
          "height": 34
        }
      },
      "cell_type": "code",
      "source": [
        "# 1.7 Perform training.\n",
        "for step in range(1000000):\n",
        "    sess.run(train)\n",
        "    # Uncomment the following two lines to watch training happen real time.\n",
        "    # if step % 20 == 0:\n",
        "    #    print(step, sess.run([W, b]))\n",
        "\n",
        "print(sess.run([y]))"
      ],
      "execution_count": 245,
      "outputs": [
        {
          "output_type": "stream",
          "text": [
            "[array([15.186021], dtype=float32)]\n"
          ],
          "name": "stdout"
        }
      ]
    },
    {
      "metadata": {
        "id": "CXdMhvkf5BEv",
        "colab_type": "code",
        "colab": {}
      },
      "cell_type": "code",
      "source": [
        "# 1.8 Uncomment the following lines to compare.\n",
        "# pylab.plot(x_data, y_data, '.', label=\"target_values\")\n",
        "# pylab.plot(x_data, y_initial_values, \".\", label=\"initial_values\")\n",
        "# pylab.plot(x_data, sess.run(y), \".\", label=\"trained_values\")\n",
        "# pylab.legend()\n",
        "# pylab.ylim(0, 1.0)"
      ],
      "execution_count": 0,
      "outputs": []
    },
    {
      "metadata": {
        "id": "G6Yiv9LM5BEy",
        "colab_type": "text"
      },
      "cell_type": "markdown",
      "source": [
        "<p>Back to [0_tf_hello_world.ipynb](0_tf_hello_world.ipynb).</p>\n",
        "<p>Next to [2_mnist.ipynb](2_mnist.ipynb).</p>"
      ]
    }
  ]
}
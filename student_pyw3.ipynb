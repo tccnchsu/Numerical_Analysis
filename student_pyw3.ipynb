{
 "cells": [
  {
   "cell_type": "code",
   "execution_count": 94,
   "metadata": {},
   "outputs": [
    {
     "data": {
      "image/png": "[encoded data removed]",
      "text/plain": [
       "<Figure size 432x288 with 1 Axes>"
      ]
     },
     "metadata": {
      "needs_background": "light"
     },
     "output_type": "display_data"
    }
   ],
   "source": [
    "import numpy as np\n",
    "import matplotlib.pyplot as plt\n",
    "\n",
    "width=0.01\n",
    "\n",
    "x = np.arange(0, 1, width)\n",
    "y = x**2\n",
    "\n",
    "plt.plot(x, y)\n",
    "plt.xlim(0, 1)\n",
    "plt.ylim(0, 1)\n",
    "plt.show()"
   ]
  },
  {
   "cell_type": "code",
   "execution_count": 97,
   "metadata": {
    "scrolled": false
   },
   "outputs": [
    {
     "data": {
      "text/plain": [
       "([<matplotlib.axis.XTick at 0x1db49494908>,\n",
       "  <matplotlib.axis.XTick at 0x1db494a1cf8>,\n",
       "  <matplotlib.axis.XTick at 0x1db494a1358>,\n",
       "  <matplotlib.axis.XTick at 0x1db49587ac8>,\n",
       "  <matplotlib.axis.XTick at 0x1db49587e80>,\n",
       "  <matplotlib.axis.XTick at 0x1db495914a8>,\n",
       "  <matplotlib.axis.XTick at 0x1db495919b0>,\n",
       "  <matplotlib.axis.XTick at 0x1db49591eb8>,\n",
       "  <matplotlib.axis.XTick at 0x1db49598400>,\n",
       "  <matplotlib.axis.XTick at 0x1db49598908>,\n",
       "  <matplotlib.axis.XTick at 0x1db49598e10>,\n",
       "  <matplotlib.axis.XTick at 0x1db495a0358>,\n",
       "  <matplotlib.axis.XTick at 0x1db495988d0>,\n",
       "  <matplotlib.axis.XTick at 0x1db49591a58>,\n",
       "  <matplotlib.axis.XTick at 0x1db495a04a8>,\n",
       "  <matplotlib.axis.XTick at 0x1db495a0cf8>,\n",
       "  <matplotlib.axis.XTick at 0x1db495a9240>,\n",
       "  <matplotlib.axis.XTick at 0x1db495a9748>,\n",
       "  <matplotlib.axis.XTick at 0x1db495a9c50>,\n",
       "  <matplotlib.axis.XTick at 0x1db495b1198>,\n",
       "  <matplotlib.axis.XTick at 0x1db495b16a0>,\n",
       "  <matplotlib.axis.XTick at 0x1db495b1ba8>,\n",
       "  <matplotlib.axis.XTick at 0x1db495a9ac8>,\n",
       "  <matplotlib.axis.XTick at 0x1db495a0b00>,\n",
       "  <matplotlib.axis.XTick at 0x1db495b1b00>,\n",
       "  <matplotlib.axis.XTick at 0x1db495ba198>,\n",
       "  <matplotlib.axis.XTick at 0x1db495ba6a0>,\n",
       "  <matplotlib.axis.XTick at 0x1db495baba8>,\n",
       "  <matplotlib.axis.XTick at 0x1db495c2160>,\n",
       "  <matplotlib.axis.XTick at 0x1db495c25f8>,\n",
       "  <matplotlib.axis.XTick at 0x1db495c2b00>,\n",
       "  <matplotlib.axis.XTick at 0x1db495c2ac8>,\n",
       "  <matplotlib.axis.XTick at 0x1db495bab00>,\n",
       "  <matplotlib.axis.XTick at 0x1db495b1a20>,\n",
       "  <matplotlib.axis.XTick at 0x1db495ca400>,\n",
       "  <matplotlib.axis.XTick at 0x1db495ca908>,\n",
       "  <matplotlib.axis.XTick at 0x1db495cae10>,\n",
       "  <matplotlib.axis.XTick at 0x1db495d2358>,\n",
       "  <matplotlib.axis.XTick at 0x1db495d2860>,\n",
       "  <matplotlib.axis.XTick at 0x1db495d2d68>,\n",
       "  <matplotlib.axis.XTick at 0x1db495da2b0>,\n",
       "  <matplotlib.axis.XTick at 0x1db495d2940>,\n",
       "  <matplotlib.axis.XTick at 0x1db495ca3c8>,\n",
       "  <matplotlib.axis.XTick at 0x1db495da0b8>,\n",
       "  <matplotlib.axis.XTick at 0x1db495dab00>,\n",
       "  <matplotlib.axis.XTick at 0x1db495e40b8>,\n",
       "  <matplotlib.axis.XTick at 0x1db495e4550>,\n",
       "  <matplotlib.axis.XTick at 0x1db495e4a58>,\n",
       "  <matplotlib.axis.XTick at 0x1db495e4f60>,\n",
       "  <matplotlib.axis.XTick at 0x1db495eb4a8>,\n",
       "  <matplotlib.axis.XTick at 0x1db495e45f8>,\n",
       "  <matplotlib.axis.XTick at 0x1db495daa58>,\n",
       "  <matplotlib.axis.XTick at 0x1db495eb860>,\n",
       "  <matplotlib.axis.XTick at 0x1db495ebd68>,\n",
       "  <matplotlib.axis.XTick at 0x1db495f42b0>,\n",
       "  <matplotlib.axis.XTick at 0x1db495f47b8>,\n",
       "  <matplotlib.axis.XTick at 0x1db495f4cc0>,\n",
       "  <matplotlib.axis.XTick at 0x1db495fd208>,\n",
       "  <matplotlib.axis.XTick at 0x1db495fd710>,\n",
       "  <matplotlib.axis.XTick at 0x1db495fdc18>,\n",
       "  <matplotlib.axis.XTick at 0x1db495f4860>,\n",
       "  <matplotlib.axis.XTick at 0x1db495dae80>,\n",
       "  <matplotlib.axis.XTick at 0x1db495fd1d0>,\n",
       "  <matplotlib.axis.XTick at 0x1db496054a8>,\n",
       "  <matplotlib.axis.XTick at 0x1db49605978>,\n",
       "  <matplotlib.axis.XTick at 0x1db49605e80>,\n",
       "  <matplotlib.axis.XTick at 0x1db4960d3c8>,\n",
       "  <matplotlib.axis.XTick at 0x1db4960d8d0>,\n",
       "  <matplotlib.axis.XTick at 0x1db4960ddd8>,\n",
       "  <matplotlib.axis.XTick at 0x1db4960d6d8>,\n",
       "  <matplotlib.axis.XTick at 0x1db49605a58>,\n",
       "  <matplotlib.axis.XTick at 0x1db495f4780>,\n",
       "  <matplotlib.axis.XTick at 0x1db496156d8>,\n",
       "  <matplotlib.axis.XTick at 0x1db49615be0>,\n",
       "  <matplotlib.axis.XTick at 0x1db4961e160>,\n",
       "  <matplotlib.axis.XTick at 0x1db4961e630>,\n",
       "  <matplotlib.axis.XTick at 0x1db4961eb38>,\n",
       "  <matplotlib.axis.XTick at 0x1db496270f0>,\n",
       "  <matplotlib.axis.XTick at 0x1db49627588>,\n",
       "  <matplotlib.axis.XTick at 0x1db4961e940>,\n",
       "  <matplotlib.axis.XTick at 0x1db49615550>,\n",
       "  <matplotlib.axis.XTick at 0x1db49627160>,\n",
       "  <matplotlib.axis.XTick at 0x1db49627dd8>,\n",
       "  <matplotlib.axis.XTick at 0x1db4962e320>,\n",
       "  <matplotlib.axis.XTick at 0x1db4962e828>,\n",
       "  <matplotlib.axis.XTick at 0x1db4962ed30>,\n",
       "  <matplotlib.axis.XTick at 0x1db49635278>,\n",
       "  <matplotlib.axis.XTick at 0x1db49635780>,\n",
       "  <matplotlib.axis.XTick at 0x1db4962e630>,\n",
       "  <matplotlib.axis.XTick at 0x1db496279b0>,\n",
       "  <matplotlib.axis.XTick at 0x1db496359b0>,\n",
       "  <matplotlib.axis.XTick at 0x1db4963e0f0>,\n",
       "  <matplotlib.axis.XTick at 0x1db4963e588>,\n",
       "  <matplotlib.axis.XTick at 0x1db4963ea90>,\n",
       "  <matplotlib.axis.XTick at 0x1db4963ee80>,\n",
       "  <matplotlib.axis.XTick at 0x1db496484e0>,\n",
       "  <matplotlib.axis.XTick at 0x1db496489e8>,\n",
       "  <matplotlib.axis.XTick at 0x1db49648ef0>,\n",
       "  <matplotlib.axis.XTick at 0x1db49648ac8>,\n",
       "  <matplotlib.axis.XTick at 0x1db4963e550>],\n",
       " <a list of 100 Text xticklabel objects>)"
      ]
     },
     "execution_count": 97,
     "metadata": {},
     "output_type": "execute_result"
    },
    {
     "data": {
      "image/png": "[encoded data removed]",
      "text/plain": [
       "<Figure size 432x288 with 1 Axes>"
      ]
     },
     "metadata": {
      "needs_background": "light"
     },
     "output_type": "display_data"
    }
   ],
   "source": [
    "data = tuple(np.arange(0, 1, width))\n",
    "y_pos = np.arange(len(data))\n",
    "plt.bar(y_pos, y, align='center', width=1, alpha=0.5)\n",
    "plt.plot(y_pos, y)\n",
    "plt.xlim(0, 1)\n",
    "plt.ylim(0, 1)\n",
    "plt.xticks(y_pos, data)"
   ]
  },
  {
   "cell_type": "markdown",
   "metadata": {},
   "source": [
    "\n",
    "$$\n",
    "\\begin{align*} \n",
    "I  &=\\int_{0}^{1} f(x) dx = \\int_{0}^{1}x^2 dx \\\\\n",
    "   &=\\tfrac{1}{3} x^3 \n",
    "\\Big|_0^1=\\tfrac{1}{3} 1^3 -0=\\tfrac{1}{3}\n",
    "\\end{align*}\n",
    "$$"
   ]
  },
  {
   "cell_type": "code",
   "execution_count": 87,
   "metadata": {},
   "outputs": [
    {
     "data": {
      "text/plain": [
       "(0.33333333333333337, 3.700743415417189e-15)"
      ]
     },
     "execution_count": 87,
     "metadata": {},
     "output_type": "execute_result"
    }
   ],
   "source": [
    "from scipy.integrate import quad\n",
    "\n",
    "def integrand(x, a, b):\n",
    "    return a*x**2 + b\n",
    "\n",
    "a = 1\n",
    "b = 0\n",
    "\n",
    "I = quad(integrand, 0, 1, args=(a,b))\n",
    "I"
   ]
  },
  {
   "cell_type": "code",
   "execution_count": 98,
   "metadata": {},
   "outputs": [
    {
     "name": "stdout",
     "output_type": "stream",
     "text": [
      "0.32835000000000003 0.004983333333333284\n"
     ]
    }
   ],
   "source": [
    "cintegral = width * sum(y)\n",
    "\n",
    "print(cintegral,(1/3)-cintegral)"
   ]
  },
  {
   "cell_type": "code",
   "execution_count": null,
   "metadata": {},
   "outputs": [],
   "source": []
  }
 ],
 "metadata": {
  "kernelspec": {
   "display_name": "Python 3",
   "language": "python",
   "name": "python3"
  },
  "language_info": {
   "codemirror_mode": {
    "name": "ipython",
    "version": 3
   },
   "file_extension": ".py",
   "mimetype": "text/x-python",
   "name": "python",
   "nbconvert_exporter": "python",
   "pygments_lexer": "ipython3",
   "version": "3.6.6"
  }
 },
 "nbformat": 4,
 "nbformat_minor": 2
}
